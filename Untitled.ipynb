{
 "cells": [
  {
   "cell_type": "markdown",
   "id": "310e4eb2-6839-4bcd-8249-4a57071198e4",
   "metadata": {},
   "source": [
    "# This is the mid course project"
   ]
  },
  {
   "cell_type": "code",
   "execution_count": 1,
   "id": "b0aa29cb-32fb-4b25-bc56-1c79b0451c97",
   "metadata": {},
   "outputs": [],
   "source": [
    "import pandas as pd"
   ]
  },
  {
   "cell_type": "code",
   "execution_count": null,
   "id": "739cecb4-338f-4f8c-9a0d-327fb351995c",
   "metadata": {},
   "outputs": [],
   "source": []
  }
 ],
 "metadata": {
  "kernelspec": {
   "display_name": "Python [conda env:base] *",
   "language": "python",
   "name": "conda-base-py"
  },
  "language_info": {
   "codemirror_mode": {
    "name": "ipython",
    "version": 3
   },
   "file_extension": ".py",
   "mimetype": "text/x-python",
   "name": "python",
   "nbconvert_exporter": "python",
   "pygments_lexer": "ipython3",
   "version": "3.12.7"
  }
 },
 "nbformat": 4,
 "nbformat_minor": 5
}
